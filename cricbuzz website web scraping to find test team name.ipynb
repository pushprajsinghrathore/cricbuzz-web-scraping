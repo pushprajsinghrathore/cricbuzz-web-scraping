{
 "cells": [
  {
   "cell_type": "code",
   "execution_count": 1,
   "id": "2c3d64cd",
   "metadata": {},
   "outputs": [],
   "source": [
    "import sys\n",
    "import time\n",
    "from bs4 import BeautifulSoup\n",
    "import requests"
   ]
  },
  {
   "cell_type": "code",
   "execution_count": 23,
   "id": "bd72853b",
   "metadata": {},
   "outputs": [],
   "source": [
    "try:# try catch is liye use hota kyo ki  \n",
    "    page=requests.get('https://www.cricbuzz.com/')# yaha page request send kr rha request librarey ke through\n",
    "except Exception as e:\n",
    "    error_type,error_obj,error_info=sys.exc_info()\n",
    "    print(\"error for link\",url)\n",
    "    print(error_type,'link:',error_info.tb_lineno)\n",
    "    \n",
    "time.sleep(2)\n",
    "soup=BeautifulSoup(page.text,'html.parser')# In this code use when a page have html\n",
    "# content so we find text in page so we do parser for geeting text in html content so we write page.text\n",
    "links=soup.find_all('div',attrs={'class':'cb-sub-lg-sec'})\n",
    "# In this page we have extract a cb-nws-intr we store in link"
   ]
  },
  {
   "cell_type": "code",
   "execution_count": 24,
   "id": "1f44eb4d",
   "metadata": {},
   "outputs": [
    {
     "data": {
      "text/plain": [
       "<Response [200]>"
      ]
     },
     "execution_count": 24,
     "metadata": {},
     "output_type": "execute_result"
    }
   ],
   "source": [
    "page"
   ]
  },
  {
   "cell_type": "code",
   "execution_count": 25,
   "id": "59436356",
   "metadata": {},
   "outputs": [
    {
     "data": {
      "text/plain": [
       "[<div class=\"cb-sub-lg-sec\"> <h4 class=\"cb-sub-lg-sec-head\">Test Teams</h4> <a class=\"cb-subnav-item cb-sub-lg-sec-item\" href=\"/cricket-team/india/2\" target=\"_self\" title=\"India Cricket Team\">India</a> <a class=\"cb-subnav-item cb-sub-lg-sec-item\" href=\"/cricket-team/afghanistan/96\" target=\"_self\" title=\"Afghanistan Cricket Team\">Afghanistan</a> <a class=\"cb-subnav-item cb-sub-lg-sec-item\" href=\"/cricket-team/ireland/27\" target=\"_self\" title=\"Ireland Cricket Team\">Ireland</a> <a class=\"cb-subnav-item cb-sub-lg-sec-item\" href=\"/cricket-team/pakistan/3\" target=\"_self\" title=\"Pakistan Cricket Team\">Pakistan</a> <a class=\"cb-subnav-item cb-sub-lg-sec-item\" href=\"/cricket-team/australia/4\" target=\"_self\" title=\"Australia Cricket Team\">Australia</a> <a class=\"cb-subnav-item cb-sub-lg-sec-item\" href=\"/cricket-team/sri-lanka/5\" target=\"_self\" title=\"Sri Lanka Cricket Team\">Sri Lanka</a> <a class=\"cb-subnav-item cb-sub-lg-sec-item\" href=\"/cricket-team/bangladesh/6\" target=\"_self\" title=\"Bangladesh Cricket Team\">Bangladesh</a> <a class=\"cb-subnav-item cb-sub-lg-sec-item\" href=\"/cricket-team/england/9\" target=\"_self\" title=\"England Cricket Team\">England</a> <a class=\"cb-subnav-item cb-sub-lg-sec-item\" href=\"/cricket-team/west-indies/10\" target=\"_self\" title=\"West Indies Cricket Team\">West Indies</a> <a class=\"cb-subnav-item cb-sub-lg-sec-item\" href=\"/cricket-team/south-africa/11\" target=\"_self\" title=\"South Africa Cricket Team\">South Africa</a> <a class=\"cb-subnav-item cb-sub-lg-sec-item\" href=\"/cricket-team/zimbabwe/12\" target=\"_self\" title=\"Zimbabwe Cricket Team\">Zimbabwe</a> <a class=\"cb-subnav-item cb-sub-lg-sec-item\" href=\"/cricket-team/new-zealand/13\" target=\"_self\" title=\"New Zealand Cricket Team\">New Zealand</a> </div>,\n",
       " <div class=\"cb-sub-lg-sec\"> <h4 class=\"cb-sub-lg-sec-head\">Associate</h4> <a class=\"cb-subnav-item cb-sub-lg-sec-item\" href=\"/cricket-team/malaysia/71\" target=\"_self\" title=\"Malaysia Cricket Team\">Malaysia</a> <a class=\"cb-subnav-item cb-sub-lg-sec-item\" href=\"/cricket-team/nepal/72\" target=\"_self\" title=\"Nepal Cricket Team\">Nepal</a> <a class=\"cb-subnav-item cb-sub-lg-sec-item\" href=\"/cricket-team/germany/77\" target=\"_self\" title=\"Germany Cricket Team\">Germany</a> <a class=\"cb-subnav-item cb-sub-lg-sec-item\" href=\"/cricket-team/namibia/161\" target=\"_self\" title=\"Namibia Cricket Team\">Namibia</a> <a class=\"cb-subnav-item cb-sub-lg-sec-item\" href=\"/cricket-team/denmark/185\" target=\"_self\" title=\"Denmark Cricket Team\">Denmark</a> <a class=\"cb-subnav-item cb-sub-lg-sec-item\" href=\"/cricket-team/singapore/190\" target=\"_self\" title=\"Singapore Cricket Team\">Singapore</a> <a class=\"cb-subnav-item cb-sub-lg-sec-item\" href=\"/cricket-team/papua-new-guinea/287\" target=\"_self\" title=\"Papua New Guinea Cricket Team\">Papua New Guinea</a> <a class=\"cb-subnav-item cb-sub-lg-sec-item\" href=\"/cricket-team/kuwait/298\" target=\"_self\" title=\"Kuwait Cricket Team\">Kuwait</a> <a class=\"cb-subnav-item cb-sub-lg-sec-item\" href=\"/cricket-team/vanuatu/300\" target=\"_self\" title=\"Vanuatu Cricket Team\">Vanuatu</a> <a class=\"cb-subnav-item cb-sub-lg-sec-item\" href=\"/cricket-team/jersey/303\" target=\"_self\" title=\"Jersey Cricket Team\">Jersey</a> <a class=\"cb-subnav-item cb-sub-lg-sec-item\" href=\"/cricket-team/oman/304\" target=\"_self\" title=\"Oman Cricket Team\">Oman</a> <a class=\"cb-subnav-item cb-sub-lg-sec-item\" href=\"/cricket-team/fiji/343\" target=\"_self\" title=\"Fiji Cricket Team\">Fiji</a> </div>]"
      ]
     },
     "execution_count": 25,
     "metadata": {},
     "output_type": "execute_result"
    }
   ],
   "source": [
    "links"
   ]
  },
  {
   "cell_type": "code",
   "execution_count": 28,
   "id": "8bebf17a",
   "metadata": {},
   "outputs": [
    {
     "name": "stdout",
     "output_type": "stream",
     "text": [
      " Test Teams India Afghanistan Ireland Pakistan Australia Sri Lanka Bangladesh England West Indies South Africa Zimbabwe New Zealand \n",
      "  \n",
      "   \n"
     ]
    },
    {
     "ename": "AttributeError",
     "evalue": "'NoneType' object has no attribute 'spl'",
     "output_type": "error",
     "traceback": [
      "\u001b[1;31m---------------------------------------------------------------------------\u001b[0m",
      "\u001b[1;31mAttributeError\u001b[0m                            Traceback (most recent call last)",
      "Input \u001b[1;32mIn [28]\u001b[0m, in \u001b[0;36m<module>\u001b[1;34m\u001b[0m\n\u001b[0;32m      2\u001b[0m \u001b[38;5;28;01mfor\u001b[39;00m i \u001b[38;5;129;01min\u001b[39;00m links:\n\u001b[0;32m      3\u001b[0m     \u001b[38;5;28mprint\u001b[39m(i\u001b[38;5;241m.\u001b[39mtext)\n\u001b[1;32m----> 4\u001b[0m     \u001b[38;5;28;43mprint\u001b[39;49m\u001b[43m(\u001b[49m\u001b[38;5;124;43m\"\u001b[39;49m\u001b[38;5;124;43m  \u001b[39;49m\u001b[38;5;130;43;01m\\n\u001b[39;49;00m\u001b[38;5;124;43m   \u001b[39;49m\u001b[38;5;124;43m\"\u001b[39;49m\u001b[43m)\u001b[49m\u001b[38;5;241;43m.\u001b[39;49m\u001b[43mspl\u001b[49m\n",
      "\u001b[1;31mAttributeError\u001b[0m: 'NoneType' object has no attribute 'spl'"
     ]
    }
   ],
   "source": [
    "# to remove div tag and class and arrage in structure from\n",
    "for i in links:\n",
    "    print(i.text)\n",
    "    print(\"  \\n   \").spl"
   ]
  },
  {
   "cell_type": "code",
   "execution_count": null,
   "id": "eec5af54",
   "metadata": {},
   "outputs": [],
   "source": []
  }
 ],
 "metadata": {
  "kernelspec": {
   "display_name": "Python 3 (ipykernel)",
   "language": "python",
   "name": "python3"
  },
  "language_info": {
   "codemirror_mode": {
    "name": "ipython",
    "version": 3
   },
   "file_extension": ".py",
   "mimetype": "text/x-python",
   "name": "python",
   "nbconvert_exporter": "python",
   "pygments_lexer": "ipython3",
   "version": "3.9.7"
  }
 },
 "nbformat": 4,
 "nbformat_minor": 5
}
